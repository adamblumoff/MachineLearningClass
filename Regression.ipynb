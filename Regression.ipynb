{
 "cells": [
  {
   "cell_type": "markdown",
   "metadata": {},
   "source": [
    "Data: Records of four top wide-receivers career games and their stats. This raw data was pulled from https://www.pro-football-reference.com/. \n",
    "\n",
    "Regression Task: How number of receiving yards and receptions predicts how many touchdowns they get. "
   ]
  },
  {
   "cell_type": "code",
   "execution_count": 5,
   "metadata": {},
   "outputs": [
    {
     "name": "stdout",
     "output_type": "stream",
     "text": [
      "     Yards  Receptions  Touchdowns\n",
      "0        0           0           0\n",
      "1       49           3           0\n",
      "2       81           4           0\n",
      "3       36           3           1\n",
      "4       93           8           1\n",
      "..     ...         ...         ...\n",
      "568    121           8           2\n",
      "569     31           5           2\n",
      "570     70           7           1\n",
      "571     26           2           0\n",
      "572     44           5           1\n",
      "\n",
      "[573 rows x 3 columns]\n"
     ]
    }
   ],
   "source": [
    "import pandas as pd\n",
    "\n",
    "df = pd.read_csv('Football.csv')\n",
    "\n",
    "\n",
    "df_final = df[['Yds', 'Rec' , 'TD']].dropna()\n",
    "df_final = df_final.rename(columns={'Yds': 'Yards', 'TD': 'Touchdowns', 'Rec': 'Receptions'})\n",
    "\n",
    "numRows = len(df_final)\n",
    "\n",
    "print(df_final)"
   ]
  },
  {
   "cell_type": "code",
   "execution_count": 28,
   "metadata": {},
   "outputs": [],
   "source": [
    "y = df_final.iloc[0:numRows, 2].values\n",
    "X = df_final.iloc[0:numRows, [0,1]].values\n",
    "\n",
    "from sklearn.model_selection import train_test_split\n",
    "\n",
    "X_train, X_test, y_train, y_test = train_test_split(\n",
    "    X, y, test_size=0.3, random_state=1)\n",
    "\n"
   ]
  },
  {
   "cell_type": "code",
   "execution_count": 35,
   "metadata": {},
   "outputs": [
    {
     "name": "stdout",
     "output_type": "stream",
     "text": [
      "MSE train: 0.854, test: 0.751\n",
      "R^2 train: 0.146, test: 0.208\n"
     ]
    }
   ],
   "source": [
    "from sklearn.preprocessing import StandardScaler\n",
    "from sklearn.model_selection import train_test_split\n",
    "from sklearn.metrics import r2_score\n",
    "from sklearn.metrics import mean_squared_error\n",
    "import numpy as np\n",
    "\n",
    "X_train, X_test, y_train, y_test = train_test_split(\n",
    "    X, y, test_size=0.4, random_state=1)\n",
    "\n",
    "sc = StandardScaler()\n",
    "sc.fit(X_train)\n",
    "X_train_std = sc.transform(X_train)\n",
    "X_test_std = sc.transform(X_test)\n",
    "\n",
    "sc_y = StandardScaler()\n",
    "sc_y.fit(y_train[:, np.newaxis])\n",
    "y_train_std = sc_y.transform(y_train[:, np.newaxis]).flatten()\n",
    "y_test_std = sc_y.transform(y_test[:, np.newaxis]).flatten()\n",
    "\n",
    "##################\n",
    "\n",
    "from sklearn.linear_model import LinearRegression\n",
    "\n",
    "est = LinearRegression()\n",
    "est.fit(X_train_std, y_train_std)\n",
    "\n",
    "##################\n",
    "\n",
    "y_train_pred = est.predict(X_train_std)\n",
    "y_test_pred = est.predict(X_test_std)\n",
    "\n",
    "print('MSE train: %.3f, test: %.3f' % (\n",
    "        mean_squared_error(y_train_std, y_train_pred),\n",
    "        mean_squared_error(y_test_std, y_test_pred)))\n",
    "print('R^2 train: %.3f, test: %.3f' % (\n",
    "        r2_score(y_train_std, y_train_pred),\n",
    "        r2_score(y_test_std, y_test_pred)))"
   ]
  },
  {
   "cell_type": "markdown",
   "metadata": {},
   "source": [
    "The model employs multiple linear regression to predict the number of touchdowns based on receiving yards and the number of receptions. It assumes a linear relationship between these predictor variables and touchdown counts, allowing it to compute a weighted sum of the inputs for prediction. By fitting the model to historical data, its performance can be evaluated using metrics such as mean squared error and R-squared, which indicate how accurately the linear relationship captures the underlying trends.\n",
    "\n",
    "\n",
    "The results of the R^2 and MSE show that this model is not a good predictor for how number of receiving yards and receptions predicts number of touchdowns. These results are quite suprising because the number of receptions and yards are usually a great predictor of how many touchdowns a top reciever would get in a game. There are definetly some other variables that were left out that would contribute to the number of touchdowns, but they are definetly not primary and these should do a pretty good job of predicting the number of touchdowns. This model most likely needs a lot more data to be more accurate and would most likely be pretty useful with more data. "
   ]
  }
 ],
 "metadata": {
  "kernelspec": {
   "display_name": "base",
   "language": "python",
   "name": "python3"
  },
  "language_info": {
   "codemirror_mode": {
    "name": "ipython",
    "version": 3
   },
   "file_extension": ".py",
   "mimetype": "text/x-python",
   "name": "python",
   "nbconvert_exporter": "python",
   "pygments_lexer": "ipython3",
   "version": "3.12.7"
  }
 },
 "nbformat": 4,
 "nbformat_minor": 2
}
