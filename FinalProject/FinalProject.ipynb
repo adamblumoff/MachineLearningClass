{
 "cells": [
  {
   "cell_type": "markdown",
   "id": "ab914a73",
   "metadata": {},
   "source": [
    "Title: Predicting Diabetes Through Common Health Metrics\n",
    "\n",
    "\n",
    "Description:\n",
    "\n",
    "Predicting the onset of diabetes is a critical challenge in public health, and this project aims to address it by leveraging machine learning techniques applied to real-world data from the National Health and Nutrition Examination Survey (NHANES). The objective is to build a predictive model that identifies individuals at elevated risk for developing diabetes by examining key clinical and lifestyle variables. With diabetes rates increasing and its significant impact on healthcare systems, early detection can lead to timely interventions, better patient outcomes, and reduced long-term healthcare costs.\n",
    "\n",
    "The project will utilize NHANES data from the Centers for Disease Control and Prevention (CDC) website (https://wwwn.cdc.gov/nchs/nhanes/Default.aspx). This dataset provides a wide range of information, including demographics, socioeconomic data, dietary habits, clinical measurements, and health exam results. By focusing on essential variables such as fasting plasma glucose, body mass index (BMI), blood pressure, lipid profiles, physical activity levels, and dietary intake, the project will isolate the factors that most strongly predict the risk of developing diabetes. I will probably use a technique I learned in an earlier project to get the two or three best variables that accurately predict diabetes outcomes. \n",
    "\n",
    "The modeling process will start with straightforward supervised learning algorithms like Logistic Regression and Decision Trees to establish a performance baseline. From there, more advanced techniques, such as Random Forests and SVMs, will be implemented to capture any nonlinear interactions and improve overall predictive accuracy. If the data demonstrates sufficient complexity, I will consider using an MLP. \n",
    "\n",
    "\n",
    "\n",
    "Status: I am still working on data processing, but should have it done soon and I have been playing a lot with the different types of variables I am going to use. I think I am also going to run a cross validation to see which model I am going to use, but it will probably be a SVM or Gradient Boosting. \n"
   ]
  },
  {
   "cell_type": "markdown",
   "id": "ebe75445",
   "metadata": {},
   "source": [
    "Data Processing"
   ]
  },
  {
   "cell_type": "code",
   "execution_count": null,
   "id": "cb4efb72",
   "metadata": {},
   "outputs": [
    {
     "name": "stdout",
     "output_type": "stream",
     "text": [
      "       SEQN  RIAGENDR  RIDAGEYR  RIDRETH1\n",
      "0  130378.0       1.0      43.0       5.0\n",
      "1  130379.0       1.0      66.0       3.0\n",
      "2  130380.0       2.0      44.0       2.0\n",
      "3  130381.0       2.0       5.0       5.0\n",
      "4  130382.0       1.0       2.0       3.0\n",
      "high_homa\n",
      "1    3456\n",
      "0     540\n",
      "Name: count, dtype: int64\n"
     ]
    }
   ],
   "source": [
    "import pandas as pd\n",
    "\n",
    "\n",
    "# Use pandas.read_sas to read the XPT file\n",
    "diabetes_ques = pd.read_sas('DIQ_L.xpt', format='xport')\n",
    "fasting_glucose = pd.read_sas('GLU_L.xpt', format='xport')\n",
    "insulin = pd.read_sas('INS_L.xpt', format='xport')\n",
    "tot_cholesterol = pd.read_sas('TCHOL_L.xpt', format='xport')\n",
    "weight_hist = pd.read_sas('WHQ_L.xpt', format='xport')\n",
    "demographics = pd.read_sas('DEMO_L.xpt', format='xport')\n",
    "\n",
    "demographics = demographics[['SEQN', 'RIAGENDR', 'RIDAGEYR']]\n",
    "print(demographics.head())\n",
    "\n",
    "\n",
    "\n",
    "diabetes_ques = diabetes_ques[['SEQN', 'DIQ160']]\n",
    "#DIQ160: Have you ever been told by a doctor or health professional that you have diabetes?\n",
    "# 1 = Yes, 2 = No, 7 = Refused, 9 = Don't know\n",
    "#print(diabetes_ques['DIQ160'].value_counts())\n",
    "\n",
    "#get fasting glucose (mg/dL), just means glucose level after fasting for 8 hours\n",
    "fasting_glucose = fasting_glucose[['SEQN', 'LBXGLU']]\n",
    "#LBXGLU: Glucose, Serum or Plasma (mg/dL)\n",
    "fasting_glucose['diabetes_meas'] = fasting_glucose['LBXGLU'].apply(lambda x: 1 if x >= 126 else 0)\n",
    "#print(fasting_glucose['diabetes'].value_counts())\n",
    "\n",
    "\n",
    "\n",
    "#measured in (pmol/L)\n",
    "insulin = insulin[['SEQN', 'LBDINSI']]\n",
    "\n",
    "#measured in (mg/dL)\n",
    "tot_cholesterol = tot_cholesterol[['SEQN', 'LBXTC']]\n",
    "\n",
    "#weight history height (inch) and weight (lbs) \n",
    "weight_hist = weight_hist[['SEQN', 'WHD010', 'WHD020']]\n",
    "weight_hist['BMI'] = (weight_hist['WHD020'] / (weight_hist['WHD010'] * weight_hist['WHD010'])) * 703\n",
    "weight_hist['is_overweight'] = weight_hist['BMI'].apply(lambda x: 1 if x >= 30 else 0)\n",
    "#print(weight_hist.head())\n",
    "\n",
    "#comparing the questionnaire to the fasting glucose test\n",
    "diab_merged = pd.merge(diabetes_ques, fasting_glucose, on='SEQN', how='inner')\n",
    "diab_merged['is_diabetic'] = diab_merged['DIQ160'].apply(lambda x: 1 if x == 1.0 else 0)\n",
    "matches = diab_merged[diab_merged['is_diabetic'] == diab_merged['diabetes_meas']]\n",
    "#print(f\"Number of matches: {len(matches)}\")\n",
    "#print(f\"Number of mismatches: {len(diab_merged) - len(matches)}\")\n",
    "\n",
    "insulin_merged = pd.merge(insulin, fasting_glucose, on='SEQN', how='inner')\n",
    "insulin_merged['HOMA_IR'] = (insulin_merged['LBDINSI'] * insulin_merged['LBXGLU']) / 405\n",
    "insulin_merged['high_homa'] = insulin_merged['HOMA_IR'].apply(lambda x: 1 if x >= 2.5 else 0)\n",
    "print(insulin_merged['high_homa'].value_counts())\n"
   ]
  },
  {
   "cell_type": "code",
   "execution_count": 14,
   "id": "9acc3d78",
   "metadata": {},
   "outputs": [
    {
     "name": "stdout",
     "output_type": "stream",
     "text": [
      "TN=3196  FP=370\n",
      "FN=384  TP=46\n",
      "              precision    recall  f1-score   support\n",
      "\n",
      " no-diabetes       0.89      0.90      0.89      3566\n",
      "    diabetes       0.11      0.11      0.11       430\n",
      "\n",
      "    accuracy                           0.81      3996\n",
      "   macro avg       0.50      0.50      0.50      3996\n",
      "weighted avg       0.81      0.81      0.81      3996\n",
      "\n"
     ]
    }
   ],
   "source": [
    "from sklearn.metrics import confusion_matrix, classification_report\n",
    "\n",
    "y_true = diab_merged['diabetes_meas']\n",
    "y_pred = diab_merged['is_diabetic']\n",
    "\n",
    "# confusion matrix\n",
    "tn, fp, fn, tp = confusion_matrix(y_true, y_pred).ravel()\n",
    "print(f\"TN={tn}  FP={fp}\\nFN={fn}  TP={tp}\")\n",
    "\n",
    "# classification report\n",
    "print(classification_report(y_true, y_pred, target_names=['no-diabetes','diabetes']))"
   ]
  },
  {
   "cell_type": "code",
   "execution_count": null,
   "id": "b66cf4c4",
   "metadata": {},
   "outputs": [],
   "source": [
    "#K-fold cross-validation\n",
    "\n"
   ]
  }
 ],
 "metadata": {
  "kernelspec": {
   "display_name": "base",
   "language": "python",
   "name": "python3"
  },
  "language_info": {
   "codemirror_mode": {
    "name": "ipython",
    "version": 3
   },
   "file_extension": ".py",
   "mimetype": "text/x-python",
   "name": "python",
   "nbconvert_exporter": "python",
   "pygments_lexer": "ipython3",
   "version": "undefined.undefined.undefined"
  }
 },
 "nbformat": 4,
 "nbformat_minor": 5
}
